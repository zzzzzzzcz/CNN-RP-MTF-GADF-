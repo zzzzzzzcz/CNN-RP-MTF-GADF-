{
  "cells": [
    {
      "cell_type": "markdown",
      "metadata": {
        "id": "view-in-github",
        "colab_type": "text"
      },
      "source": [
        "<a href=\"https://colab.research.google.com/github/zzzzzzzcz/CNN-RP-MTF-GADF-/blob/main/rp_mtf.ipynb\" target=\"_parent\"><img src=\"https://colab.research.google.com/assets/colab-badge.svg\" alt=\"Open In Colab\"/></a>"
      ]
    },
    {
      "cell_type": "code",
      "execution_count": null,
      "metadata": {
        "id": "kVV2CG3XQUO7",
        "colab": {
          "base_uri": "https://localhost:8080/"
        },
        "outputId": "a9eda846-5785-4a18-92f7-ec124fbcf878"
      },
      "outputs": [
        {
          "output_type": "stream",
          "name": "stdout",
          "text": [
            "Drive already mounted at /content/drive; to attempt to forcibly remount, call drive.mount(\"/content/drive\", force_remount=True).\n"
          ]
        }
      ],
      "source": [
        "from google.colab import drive\n",
        "drive.mount('/content/drive')\n",
        "\n",
        "import pandas as pd\n",
        "import numpy as np"
      ]
    },
    {
      "cell_type": "code",
      "execution_count": null,
      "metadata": {
        "id": "Ky2tl85ktXW2",
        "colab": {
          "base_uri": "https://localhost:8080/"
        },
        "outputId": "9ee96129-0934-4193-a30d-c0ad1b92d54f"
      },
      "outputs": [
        {
          "output_type": "stream",
          "name": "stdout",
          "text": [
            "Requirement already satisfied: pyts in /usr/local/lib/python3.10/dist-packages (0.13.0)\n",
            "Requirement already satisfied: numpy>=1.22.4 in /usr/local/lib/python3.10/dist-packages (from pyts) (1.23.5)\n",
            "Requirement already satisfied: scipy>=1.8.1 in /usr/local/lib/python3.10/dist-packages (from pyts) (1.11.4)\n",
            "Requirement already satisfied: scikit-learn>=1.2.0 in /usr/local/lib/python3.10/dist-packages (from pyts) (1.2.2)\n",
            "Requirement already satisfied: joblib>=1.1.1 in /usr/local/lib/python3.10/dist-packages (from pyts) (1.3.2)\n",
            "Requirement already satisfied: numba>=0.55.2 in /usr/local/lib/python3.10/dist-packages (from pyts) (0.58.1)\n",
            "Requirement already satisfied: llvmlite<0.42,>=0.41.0dev0 in /usr/local/lib/python3.10/dist-packages (from numba>=0.55.2->pyts) (0.41.1)\n",
            "Requirement already satisfied: threadpoolctl>=2.0.0 in /usr/local/lib/python3.10/dist-packages (from scikit-learn>=1.2.0->pyts) (3.2.0)\n"
          ]
        }
      ],
      "source": [
        "!pip install pyts"
      ]
    },
    {
      "cell_type": "code",
      "execution_count": null,
      "metadata": {
        "id": "I6dN1FciMgxr"
      },
      "outputs": [],
      "source": [
        "import math\n",
        "from sklearn.metrics import confusion_matrix, classification_report\n",
        "from sklearn.metrics import confusion_matrix\n",
        "from sklearn import svm"
      ]
    },
    {
      "cell_type": "code",
      "execution_count": null,
      "metadata": {
        "id": "6AM5aW_WtXW4"
      },
      "outputs": [],
      "source": [
        "import matplotlib.pyplot as plt\n",
        "from mpl_toolkits.axes_grid1 import ImageGrid\n",
        "from pyts.image import GramianAngularField\n",
        "from pyts.datasets import load_gunpoint\n",
        "import matplotlib.pyplot as plt\n",
        "from pyts.image import MarkovTransitionField\n",
        "from tensorflow.keras.utils import to_categorical\n",
        "from pyts.image import RecurrencePlot\n",
        "from pyts.datasets import load_gunpoint"
      ]
    },
    {
      "cell_type": "code",
      "execution_count": null,
      "metadata": {
        "id": "tlP9yQhtHGIw",
        "colab": {
          "base_uri": "https://localhost:8080/"
        },
        "outputId": "be92d112-005a-4e19-b0bd-9b057d52658b"
      },
      "outputs": [
        {
          "output_type": "stream",
          "name": "stdout",
          "text": [
            "0.10.1\n"
          ]
        }
      ],
      "source": [
        "import imblearn\n",
        "from imblearn.over_sampling import SMOTE\n",
        "from imblearn.over_sampling import RandomOverSampler\n",
        "from imblearn.over_sampling import ADASYN\n",
        "from imblearn.under_sampling import NearMiss\n",
        "print(imblearn.__version__)"
      ]
    },
    {
      "cell_type": "code",
      "execution_count": null,
      "metadata": {
        "id": "xAbRwVtj81d1"
      },
      "outputs": [],
      "source": [
        "from sklearn import datasets\n",
        "from sklearn.ensemble import AdaBoostClassifier,VotingClassifier\n",
        "from sklearn.tree import DecisionTreeClassifier\n",
        "from sklearn.svm import SVC\n",
        "import tensorflow as tf\n",
        "from tensorflow.keras.preprocessing import image\n",
        "import numpy as np\n",
        "import keras\n",
        "from tensorflow.keras.callbacks import EarlyStopping\n"
      ]
    },
    {
      "cell_type": "code",
      "execution_count": null,
      "metadata": {
        "id": "obNuw09dejmv"
      },
      "outputs": [],
      "source": [
        "import numpy as np\n",
        "import matplotlib.pyplot as plt\n",
        "from matplotlib.colors import ListedColormap\n",
        "from sklearn.model_selection import train_test_split\n",
        "from sklearn.preprocessing import StandardScaler\n",
        "from sklearn.datasets import make_moons, make_circles, make_classification\n",
        "from sklearn.neural_network import MLPClassifier\n",
        "from sklearn.neighbors import KNeighborsClassifier\n",
        "from sklearn.svm import SVC\n",
        "from sklearn.gaussian_process import GaussianProcessClassifier\n",
        "from sklearn.gaussian_process.kernels import RBF\n",
        "from sklearn.tree import DecisionTreeClassifier\n",
        "from sklearn.ensemble import RandomForestClassifier, AdaBoostClassifier\n",
        "from sklearn.naive_bayes import GaussianNB\n",
        "from sklearn.discriminant_analysis import QuadraticDiscriminantAnalysis"
      ]
    },
    {
      "cell_type": "code",
      "execution_count": null,
      "metadata": {
        "id": "73iKcz6pYyaf"
      },
      "outputs": [],
      "source": [
        "import math\n",
        "import pandas as pd\n",
        "import matplotlib.pyplot as plt\n",
        "import seaborn as sns\n",
        "import cmath\n",
        "import pandas as pd\n",
        "import numpy as np\n",
        "import matplotlib.pyplot as plt\n",
        "from sklearn.preprocessing import MinMaxScaler\n",
        "from sklearn.model_selection import train_test_split\n",
        "from sklearn.metrics import accuracy_score\n",
        "from sklearn.model_selection import GridSearchCV\n",
        "from sklearn.svm import SVC\n",
        "from sklearn.decomposition import PCA\n",
        "from sklearn.metrics import confusion_matrix, classification_report\n",
        "from sklearn.discriminant_analysis import LinearDiscriminantAnalysis\n",
        "from sklearn.metrics import confusion_matrix\n",
        "import cv2"
      ]
    },
    {
      "cell_type": "code",
      "execution_count": null,
      "metadata": {
        "id": "Ebdv2arDwGQL"
      },
      "outputs": [],
      "source": [
        "import matplotlib.pyplot as plt\n",
        "from pyts.image import MarkovTransitionField\n",
        "from pyts.datasets import load_gunpoint"
      ]
    },
    {
      "cell_type": "code",
      "execution_count": null,
      "metadata": {
        "id": "FgDKngoMeLCB"
      },
      "outputs": [],
      "source": [
        "cols95 = np.arange(1, 86+2,1)\n",
        "cols96 = np.arange(1, 184 +2,1)\n",
        "cols97 = np.arange(1, 196 +2,1)\n",
        "cols98 = np.arange(1, 74 +2,1)\n",
        "cols99 = np.arange(1, 203 +2,1)\n",
        "colsnormal = np.arange(1, 202 +2,1)\n",
        "cols101 = np.arange(1, 78 +2,1)\n",
        "cols102 = np.arange(1, 189 +2,1)\n",
        "cols103 = np.arange(1,  79+2,1)\n",
        "cols104 = np.arange(1, 88 +2,1)\n",
        "cols105 = np.arange(1, 184 +2,1)\n",
        "finalcols = np.arange(1, 1+2,1)"
      ]
    },
    {
      "cell_type": "code",
      "execution_count": null,
      "metadata": {
        "id": "zDeyYi_kecqz"
      },
      "outputs": [],
      "source": [
        "data95 = pd.read_csv(r'/content/drive/My Drive/Shweta/PSD data/psd_95.csv',header=0, sep=';', usecols=cols95)\n",
        "data95 = data95.transpose()"
      ]
    },
    {
      "cell_type": "code",
      "execution_count": null,
      "metadata": {
        "id": "iOtfbzPwiLuo"
      },
      "outputs": [],
      "source": [
        "data96 = pd.read_csv(r'/content/drive/My Drive/Shweta/PSD data/psd_96.csv',header=0, sep=';', usecols=cols96)\n",
        "data96 = data96.transpose()"
      ]
    },
    {
      "cell_type": "code",
      "execution_count": null,
      "metadata": {
        "id": "pbSEJ3ov77S-"
      },
      "outputs": [],
      "source": [
        "data103 = pd.read_csv(r'/content/drive/My Drive/Shweta/PSD data/psd_103.csv',header=0, sep=';', usecols=cols103)\n",
        "data103 = data103.transpose()"
      ]
    },
    {
      "cell_type": "code",
      "execution_count": null,
      "metadata": {
        "id": "1G9DaeFRiS4x"
      },
      "outputs": [],
      "source": [
        "data104 = pd.read_csv(r'/content/drive/My Drive/Shweta/PSD data/psd_104.csv',header=0, sep=';', usecols=cols104)\n",
        "data104 = data104.transpose()"
      ]
    },
    {
      "cell_type": "code",
      "execution_count": null,
      "metadata": {
        "id": "bsTUqoHSX0aw"
      },
      "outputs": [],
      "source": [
        "data98 = pd.read_csv(r'/content/drive/My Drive/Shweta/PSD data/psd_98.csv',header=0, sep=';', usecols=cols98)\n",
        "data98 = data98.transpose()"
      ]
    },
    {
      "cell_type": "code",
      "execution_count": null,
      "metadata": {
        "id": "bkdpoZ7GX0nJ"
      },
      "outputs": [],
      "source": [
        "data102 = pd.read_csv(r'/content/drive/My Drive/Shweta/PSD data/psd_102.csv',header=0, sep=';', usecols=cols102)\n",
        "data102 = data102.transpose()"
      ]
    },
    {
      "cell_type": "code",
      "execution_count": null,
      "metadata": {
        "id": "kk4wOSZphng2"
      },
      "outputs": [],
      "source": [
        "data99 = pd.read_csv(r'/content/drive/My Drive/Shweta/PSD data/psd_99.csv',header=0, sep=';', usecols=cols99)\n",
        "data99 = data99.transpose()"
      ]
    },
    {
      "cell_type": "code",
      "execution_count": null,
      "metadata": {
        "id": "GkCmVGuHhnob"
      },
      "outputs": [],
      "source": [
        "data101 = pd.read_csv(r'/content/drive/My Drive/Shweta/PSD data/psd_101.csv',header=0, sep=';', usecols=cols101)\n",
        "data101 = data101.transpose()"
      ]
    },
    {
      "cell_type": "code",
      "execution_count": null,
      "metadata": {
        "id": "u4eyvSuRShwo"
      },
      "outputs": [],
      "source": [
        "data97 = pd.read_csv(r'/content/drive/My Drive/Shweta/PSD data/psd_97.csv',header=0, sep=';', usecols=cols97)\n",
        "data97 = data97.transpose()"
      ]
    },
    {
      "cell_type": "code",
      "execution_count": null,
      "metadata": {
        "id": "8hn9SMLJ_JV7"
      },
      "outputs": [],
      "source": [
        "datanormal = pd.read_csv(r'/content/drive/My Drive/Shweta/PSD data/psd_100.csv',header=0, sep=';', usecols=colsnormal)\n",
        "datanormal = datanormal.transpose()"
      ]
    },
    {
      "cell_type": "code",
      "execution_count": null,
      "metadata": {
        "id": "iOCnSYHlvCDo"
      },
      "outputs": [],
      "source": [
        "data105 = pd.read_csv(r'/content/drive/My Drive/Shweta/PSD data/psd_105.csv',header=0, sep=';', usecols=cols105)\n",
        "data105 = data105.transpose()"
      ]
    },
    {
      "cell_type": "code",
      "execution_count": null,
      "metadata": {
        "id": "qCdEIrX8CP77"
      },
      "outputs": [],
      "source": [
        "final = pd.read_csv(r'/content/drive/My Drive/results6.csv',header=0, sep=',',index_col=0)"
      ]
    },
    {
      "cell_type": "code",
      "execution_count": null,
      "metadata": {
        "id": "i796WJ2yTAYv"
      },
      "outputs": [],
      "source": [
        "finalpsd = pd.read_csv(r'/content/drive/My Drive/resultspsdcerto2.csv',header=0, sep=',',index_col=0)"
      ]
    },
    {
      "cell_type": "code",
      "execution_count": null,
      "metadata": {
        "id": "VykKnKhlEgpF"
      },
      "outputs": [],
      "source": [
        "final = np.array(final)"
      ]
    },
    {
      "cell_type": "code",
      "execution_count": null,
      "metadata": {
        "id": "FCzqKvT3QHJr"
      },
      "outputs": [],
      "source": [
        "scaler = MinMaxScaler(feature_range=(0,4))"
      ]
    },
    {
      "cell_type": "code",
      "execution_count": null,
      "metadata": {
        "id": "CT1QLraBRX6x"
      },
      "outputs": [],
      "source": [
        "final = scaler.fit_transform(final)"
      ]
    },
    {
      "cell_type": "code",
      "execution_count": null,
      "metadata": {
        "id": "ECzjIMK7BVii"
      },
      "outputs": [],
      "source": [
        "data95 = np.array(data95)\n",
        "data96 = np.array(data96)\n",
        "data97 = np.array(data97)\n",
        "data98 = np.array(data98)\n",
        "data99 = np.array(data99)\n",
        "datanormal = np.array(datanormal)\n",
        "data101 = np.array(data101)\n",
        "data102 = np.array(data102)\n",
        "data103 = np.array(data103)\n",
        "data104 = np.array(data104)\n",
        "data105 = np.array(data105)"
      ]
    },
    {
      "cell_type": "code",
      "execution_count": null,
      "metadata": {
        "id": "xN_zh1t-8vkf"
      },
      "outputs": [],
      "source": [
        "x0 = data95[:87,:] #03\n",
        "x1 = data96[:185,:] #03\n",
        "x2 = data97[:197,:] #05\n",
        "x3 = data98[:75,:] #03\n",
        "x4 = data99[:204,:] #03\n",
        "x5 = datanormal[:203,:] #normal\n",
        "x6 = data101[:79,:] #03\n",
        "x7 = data102[:190,:] #03\n",
        "x8 = data103[:80,:] #03\n",
        "x9 = data104[:89,:] #03\n",
        "x10 = data105[:185,:] #105\n",
        "\n",
        "x = np.concatenate((x0,x1,x2,x3,x4,x5,x6,x7,x8,x9,x10), axis=0)\n",
        "\n",
        "y = np.ones((1574), dtype=np.int32)\n",
        "\n",
        "y[:87] = 1\n",
        "y[87:272] = 2\n",
        "y[272:469] = 3\n",
        "y[469:544] = 4\n",
        "y[544:748] = 5\n",
        "y[748:951] = 6\n",
        "y[951:1030] = 7\n",
        "y[1030:1220] = 8\n",
        "y[1220:1300] = 9\n",
        "y[1300:1389] = 10\n",
        "y[1389:1574] = 11"
      ]
    },
    {
      "cell_type": "code",
      "execution_count": null,
      "metadata": {
        "id": "ILmJTHrrocbQ"
      },
      "outputs": [],
      "source": [
        "final95 = final[:87,:] #normal\n",
        "final96 = final[87:272,:] #96\n",
        "final97 = final[272:469,:] #96\n",
        "final98 = final[469:544,:] #96\n",
        "final99 = final[544:748,:] #96\n",
        "finalnormal = final[748:951,:] #normal\n",
        "final101 = final[951:1030,:] #96\n",
        "final102 = final[1030:1220,:] #96\n",
        "final103 = final[1220:1300,:]\n",
        "final104 = final[1300:1389,:] #96\n",
        "final105 = final[1389:1574,:] #105\n",
        "\n",
        "finaltudo = np.concatenate((final95, final96, final97, final98, final99, finalnormal,final101, final102, final103, final104, final105), axis=0)"
      ]
    },
    {
      "cell_type": "code",
      "execution_count": null,
      "metadata": {
        "id": "ZVYyncJPHHUa"
      },
      "outputs": [],
      "source": [
        "oversample = SMOTE(sampling_strategy='all', k_neighbors=3, random_state=1)"
      ]
    },
    {
      "cell_type": "code",
      "execution_count": null,
      "metadata": {
        "id": "g8m-L-AiHKYI"
      },
      "outputs": [],
      "source": [
        "xf, y = oversample.fit_resample(finaltudo, y)"
      ]
    },
    {
      "cell_type": "code",
      "execution_count": null,
      "metadata": {
        "id": "KgvLx0KDHMlv"
      },
      "outputs": [],
      "source": [
        "y = np.ones((1574), dtype=np.int32)\n",
        "\n",
        "y[:87] = 1\n",
        "y[87:272] = 2\n",
        "y[272:469] = 3\n",
        "y[469:544] = 4\n",
        "y[544:748] = 5\n",
        "y[748:951] = 6\n",
        "y[951:1030] = 7\n",
        "y[1030:1220] =8\n",
        "y[1220:1300] = 9\n",
        "y[1300:1389] = 10\n",
        "y[1389:1574] = 11"
      ]
    },
    {
      "cell_type": "code",
      "execution_count": null,
      "metadata": {
        "id": "2Xz1lAn0HRLi"
      },
      "outputs": [],
      "source": [
        "x, y = oversample.fit_resample(x, y)"
      ]
    },
    {
      "cell_type": "code",
      "execution_count": null,
      "metadata": {
        "id": "XwAF-9bGuRVK"
      },
      "outputs": [],
      "source": [
        "x0f = np.concatenate((xf[:87],xf[1574:1691]))\n",
        "x1f = np.concatenate((xf[87:272],xf[1691:1710]))\n",
        "x2f = np.concatenate((xf[272:469],xf[1710:1717]))\n",
        "x3f = np.concatenate((xf[469:544],xf[1717:1846]))\n",
        "x4f = xf[544:748]\n",
        "x5f = np.concatenate((xf[748:951],xf[1846:1847]))\n",
        "x6f = np.concatenate((xf[951:1030],xf[1847:1972]))\n",
        "x7f = np.concatenate((xf[1030:1220],xf[1972:1986]))\n",
        "x8f = np.concatenate((xf[1220:1300],xf[1986:2110]))\n",
        "x9f = np.concatenate((xf[1300:1389],xf[2110:2225]))\n",
        "x10f = np.concatenate((xf[1389:1574],xf[2225:2244]))\n",
        "\n",
        "\n",
        "classe05f = np.concatenate((x0f,x10f))\n",
        "classe04f = np.concatenate((x1f,x9f))\n",
        "classe03f = np.concatenate((x2f,x8f))\n",
        "classe02f = np.concatenate((x3f,x7f))\n",
        "classe01f = np.concatenate((x4f,x6f))\n",
        "classenormalf = x5f\n",
        "\n",
        "\n",
        "\n",
        "#xSMOTEearlyf = np.concatenate((classe05f,classe04f,classe03f,classe02f,classe01f,classenormalf))\n",
        "#xSMOTEearlyf = np.concatenate((classe05f,classe03f,classe02f,classe01f,classenormalf))\n",
        "#xSMOTEearlyf = np.concatenate((classe05f,classe03f,classe02f,classenormalf))\n",
        "xSMOTEearlyf = np.concatenate((classe05f, classe03f, classenormalf))\n",
        "#xSMOTEearlyf = np.concatenate((classe05f,classenormalf))"
      ]
    },
    {
      "cell_type": "code",
      "execution_count": null,
      "metadata": {
        "id": "LnADEsW2uRVK"
      },
      "outputs": [],
      "source": [
        "x0 = np.concatenate((x[:87],x[1574:1691]))\n",
        "x1 = np.concatenate((x[87:272],x[1691:1710]))\n",
        "x2 = np.concatenate((x[272:469],x[1710:1717]))\n",
        "x3 = np.concatenate((x[469:544],x[1717:1846]))\n",
        "x4 = x[544:748]\n",
        "x5 = np.concatenate((x[748:951],x[1846:1847]))\n",
        "x6 = np.concatenate((x[951:1030],x[1847:1972]))\n",
        "x7 = np.concatenate((x[1030:1220],x[1972:1986]))\n",
        "x8 = np.concatenate((x[1220:1300],x[1986:2110]))\n",
        "x9 = np.concatenate((x[1300:1389],x[2110:2225]))\n",
        "x10 = np.concatenate((x[1389:1574],x[2225:2244]))\n",
        "\n",
        "\n",
        "classe05 = np.concatenate((x0,x10))\n",
        "classe04 = np.concatenate((x1,x9))\n",
        "classe03 = np.concatenate((x2,x8))\n",
        "classe02 = np.concatenate((x3,x7))\n",
        "classe01 = np.concatenate((x4,x6))\n",
        "classenormal = x5\n",
        "\n",
        "\n",
        "#xSMOTEearly = np.concatenate((classe05,classe04,classe03,classe02,classe01,classenormal))\n",
        "#xSMOTEearly = np.concatenate((classe05,classe03,classe02,classe01,classenormal))\n",
        "#xSMOTEearly = np.concatenate((classe05,classe03,classe02,classenormal))\n",
        "xSMOTEearly = np.concatenate((classe05, classe03, classenormal))\n",
        "#xSMOTEearly = np.concatenate((classe05,classenormal))"
      ]
    },
    {
      "cell_type": "code",
      "execution_count": null,
      "metadata": {
        "id": "ufGAnLPCv2Ck"
      },
      "outputs": [],
      "source": [
        "finalpsd = np.concatenate((finalpsd[:xSMOTEearly.shape[0]],finalpsd[2040:2244]))"
      ]
    },
    {
      "cell_type": "code",
      "execution_count": null,
      "metadata": {
        "id": "k-vJv7LTZGha",
        "colab": {
          "base_uri": "https://localhost:8080/"
        },
        "outputId": "5ba5071a-2702-4ee6-ee6f-dbaabada1887"
      },
      "outputs": [
        {
          "output_type": "execute_result",
          "data": {
            "text/plain": [
              "(2244, 15)"
            ]
          },
          "metadata": {},
          "execution_count": 376
        }
      ],
      "source": [
        "x.shape"
      ]
    },
    {
      "cell_type": "code",
      "execution_count": null,
      "metadata": {
        "id": "kXDb3RCJwTFM",
        "colab": {
          "base_uri": "https://localhost:8080/"
        },
        "outputId": "525048cc-b68b-4aee-b79a-21acbcadeb6e"
      },
      "outputs": [
        {
          "output_type": "execute_result",
          "data": {
            "text/plain": [
              "(1224, 11)"
            ]
          },
          "metadata": {},
          "execution_count": 377
        }
      ],
      "source": [
        "finalpsd.shape"
      ]
    },
    {
      "cell_type": "code",
      "execution_count": null,
      "metadata": {
        "id": "fjo_4kPhvzK5",
        "colab": {
          "base_uri": "https://localhost:8080/"
        },
        "outputId": "d7a8110b-bc80-4890-8088-674c070773cf"
      },
      "outputs": [
        {
          "output_type": "execute_result",
          "data": {
            "text/plain": [
              "(1020, 15)"
            ]
          },
          "metadata": {},
          "execution_count": 378
        }
      ],
      "source": [
        "xSMOTEearly.shape"
      ]
    },
    {
      "cell_type": "code",
      "execution_count": null,
      "metadata": {
        "id": "hHGdHgY5TD5n"
      },
      "outputs": [],
      "source": [
        "b = np.ones((x.shape[0]), dtype=np.int32)\n",
        "\n",
        "b[:262] = 0\n",
        "b[262:524] = 1\n",
        "b[524:786] = 2\n",
        "b[786:1048] = 3\n",
        "b[1048:1310] = 4\n",
        "b[1310:1574] = 5"
      ]
    },
    {
      "cell_type": "code",
      "execution_count": null,
      "metadata": {
        "id": "-UjgxAmbrZ_F"
      },
      "outputs": [],
      "source": [
        "y = np.ones((xSMOTEearly.shape[0]), dtype=np.int32)\n",
        "\n",
        "y[:408] = 0\n",
        "y[408:816] = 1\n",
        "y[816:1224] = 2\n",
        "y[1224:1632] = 3\n",
        "y[1632:2040] = 4\n",
        "y[2040:2244] = 5"
      ]
    },
    {
      "cell_type": "code",
      "execution_count": null,
      "metadata": {
        "id": "lt-UdmNFHVWO"
      },
      "outputs": [],
      "source": [
        "xSMOTEearlyf, y = oversample.fit_resample(xSMOTEearlyf, y)"
      ]
    },
    {
      "cell_type": "code",
      "execution_count": null,
      "metadata": {
        "id": "UNEzt8H7_HST"
      },
      "outputs": [],
      "source": [
        "y = np.ones((xSMOTEearly.shape[0]), dtype=np.int32)\n",
        "\n",
        "y[:408] = 0\n",
        "y[408:816] = 1\n",
        "y[816:1224] = 2\n",
        "y[1224:1632] = 3\n",
        "y[1632:2040] = 4\n",
        "y[2040:2244] = 5"
      ]
    },
    {
      "cell_type": "code",
      "execution_count": null,
      "metadata": {
        "id": "mIs1zM-wRiMM"
      },
      "outputs": [],
      "source": [
        "xSMOTEearly, y = oversample.fit_resample(xSMOTEearly, y)"
      ]
    },
    {
      "cell_type": "code",
      "execution_count": null,
      "metadata": {
        "id": "-Lue3Ef4cjej"
      },
      "outputs": [],
      "source": [
        "xfinal = np.concatenate((xSMOTEearly,finalpsd,xSMOTEearlyf), axis=1)\n",
        "#xfinal = np.concatenate((xSMOTEearly,finalpsd), axis=1)\n",
        "#xfinal = np.concatenate((xSMOTEearly, xSMOTEearlyf), axis=1)\n",
        "#xfinal = xSMOTEearly\n",
        "#xfinal = x"
      ]
    },
    {
      "cell_type": "code",
      "execution_count": null,
      "metadata": {
        "id": "kY4RXnQpuYJw",
        "colab": {
          "base_uri": "https://localhost:8080/",
          "height": 501
        },
        "outputId": "498f1754-7ccc-4eda-fca0-2b8bed86cb5e"
      },
      "outputs": [
        {
          "output_type": "display_data",
          "data": {
            "text/plain": [
              "<Figure size 1000x500 with 2 Axes>"
            ],
            "image/png": "[encoded data removed]"
          },
          "metadata": {}
        }
      ],
      "source": [
        "#rp = RecurrencePlot(threshold='point', percentage=20)\n",
        "#X_rp = rp.fit_transform(xfinal)\n",
        "\n",
        "#mtf = MarkovTransitionField(image_size=37)\n",
        "#X_mtf = mtf.fit_transform(xfinal)\n",
        "\n",
        "gadf = GramianAngularField(image_size=1.0, sample_range=(-1,1), method='d')\n",
        "X_gadf = gadf.fit_transform(xfinal)\n",
        "\n",
        "fig = plt.figure(figsize=(10, 5))\n",
        "grid = ImageGrid(fig, 111,\n",
        "                 nrows_ncols=(1, 1),\n",
        "                 axes_pad=0.15,\n",
        "                 share_all=True,\n",
        "                 cbar_location=\"right\",\n",
        "                 cbar_mode=\"single\",\n",
        "                 cbar_size=\"7%\",\n",
        "                 cbar_pad=0.3,\n",
        "                 )\n",
        "#images = [ X_rp[45]]\n",
        "#images = [ X_mtf[45]]\n",
        "images = [ X_gadf[1000]]\n",
        "\n",
        "titles = ['']\n",
        "for image, title, ax in zip(images, titles, grid):\n",
        "    im = ax.imshow(image)\n",
        "    ax.set_title(title, fontdict={'fontsize': 12})\n",
        "ax.cax.colorbar(im)\n",
        "ax.cax.toggle_label(True)\n",
        "plt.suptitle('Gramian Angular Field', y=0.98, fontsize=16)\n",
        "plt.show()"
      ]
    },
    {
      "cell_type": "code",
      "execution_count": null,
      "metadata": {
        "id": "DSBfSzrQXZFo"
      },
      "outputs": [],
      "source": [
        "Imagem = X_gadf[: , : , : , np.newaxis]*[1,1,-1]"
      ]
    },
    {
      "cell_type": "code",
      "source": [
        "X_train, X_test, y_train, y_test = train_test_split(Imagem, y, test_size=0.2, random_state=6)"
      ],
      "metadata": {
        "id": "AuboIymsCFHz"
      },
      "execution_count": null,
      "outputs": []
    },
    {
      "cell_type": "code",
      "execution_count": null,
      "metadata": {
        "id": "9IxMlyAOgAMj"
      },
      "outputs": [],
      "source": [
        "#X_train, X_test, y_train, y_test = train_test_split(xfinal, y, test_size=0.2, random_state=6)"
      ]
    },
    {
      "cell_type": "code",
      "execution_count": null,
      "metadata": {
        "id": "sEyzYKTuiKCb",
        "colab": {
          "base_uri": "https://localhost:8080/"
        },
        "outputId": "6820e6bf-7f61-4da3-e2ec-2254cc32641c"
      },
      "outputs": [
        {
          "output_type": "stream",
          "name": "stdout",
          "text": [
            "Total number of outputs :  3\n",
            "Output classes :  [0 1 2]\n"
          ]
        }
      ],
      "source": [
        "classes = np.unique(y_train)\n",
        "nClasses = len(classes)\n",
        "print('Total number of outputs : ', nClasses)\n",
        "print('Output classes : ', classes)"
      ]
    },
    {
      "cell_type": "code",
      "execution_count": null,
      "metadata": {
        "id": "8vjnF-xKiKFz",
        "colab": {
          "base_uri": "https://localhost:8080/"
        },
        "outputId": "27e8cd7e-4603-412b-b761-9c5e38a66fd5"
      },
      "outputs": [
        {
          "output_type": "execute_result",
          "data": {
            "text/plain": [
              "((979, 37, 37, 3), (245, 37, 37, 3))"
            ]
          },
          "metadata": {},
          "execution_count": 390
        }
      ],
      "source": [
        "train_X = X_train\n",
        "test_X = X_test\n",
        "train_X.shape, test_X.shape"
      ]
    },
    {
      "cell_type": "code",
      "execution_count": null,
      "metadata": {
        "id": "L5iBCNcnjl4E",
        "colab": {
          "base_uri": "https://localhost:8080/"
        },
        "outputId": "42dbcf95-1904-4c05-e2a7-436539be962a"
      },
      "outputs": [
        {
          "output_type": "stream",
          "name": "stdout",
          "text": [
            "Original label: 0\n",
            "After conversion to one-hot: [1. 0. 0.]\n"
          ]
        }
      ],
      "source": [
        "# Change the labels from categorical to one-hot encoding\n",
        "train_Y_one_hot = to_categorical(y_train)\n",
        "test_Y_one_hot = to_categorical(y_test)\n",
        "\n",
        "# Display the change for category label using one-hot encoding\n",
        "print('Original label:', y_train[7])\n",
        "print('After conversion to one-hot:', train_Y_one_hot[7])"
      ]
    },
    {
      "cell_type": "code",
      "execution_count": null,
      "metadata": {
        "id": "DV4L1X45nNLu"
      },
      "outputs": [],
      "source": [
        "from sklearn.model_selection import train_test_split\n",
        "train_X,valid_X,train_label,valid_label = train_test_split(train_X, train_Y_one_hot, test_size=0.15, random_state=13)"
      ]
    },
    {
      "cell_type": "code",
      "execution_count": null,
      "metadata": {
        "id": "jOYSXTjmpLCW"
      },
      "outputs": [],
      "source": [
        "import keras\n",
        "from keras.models import Sequential, Model\n",
        "from keras import Input\n",
        "from keras.layers import Dense, Dropout, Flatten\n",
        "from keras.layers import Conv2D, MaxPooling2D, AveragePooling2D, GlobalAveragePooling2D\n",
        "from keras.layers import BatchNormalization\n",
        "from keras.layers import LeakyReLU\n",
        "from keras.layers import ReLU"
      ]
    },
    {
      "cell_type": "code",
      "source": [],
      "metadata": {
        "id": "SDmdrH6rDNDp"
      },
      "execution_count": null,
      "outputs": []
    },
    {
      "cell_type": "code",
      "execution_count": null,
      "metadata": {
        "id": "quSs0Fw9pWB3"
      },
      "outputs": [],
      "source": [
        "batch_size = 64\n",
        "epochs = 110\n",
        "num_classes = nClasses"
      ]
    },
    {
      "cell_type": "code",
      "execution_count": null,
      "metadata": {
        "id": "T3uptrWnrBKv"
      },
      "outputs": [],
      "source": [
        "fashion_model = Sequential()\n",
        "fashion_model.add(Conv2D(256, kernel_size=(4, 4),strides=(1,1), activation='linear',padding='same',input_shape=(37,37,3)))\n",
        "#fashion_model.add(Conv2D(256, kernel_size=(4, 4),strides=(1,1), activation='linear',padding='same',input_shape=(12,12,3)))\n",
        "#fashion_model.add(Conv2D(256, kernel_size=(4, 4),strides=(1,1), activation='linear',padding='same',input_shape=(15,1,1)))\n",
        "fashion_model.add(LeakyReLU(alpha=0.2))\n",
        "fashion_model.add(MaxPooling2D((3, 3),padding='same'))\n",
        "fashion_model.add(Dropout(0.3))\n",
        "fashion_model.add(Conv2D(128, kernel_size=(3, 3),strides=(1,1), activation='linear',padding='same'))\n",
        "fashion_model.add(LeakyReLU(alpha=0.2))\n",
        "fashion_model.add(MaxPooling2D(pool_size=(3, 3),padding='same'))\n",
        "fashion_model.add(Dropout(0.3))\n",
        "fashion_model.add(Conv2D(128, kernel_size=(2,2),strides=(1,1), activation='linear',padding='same'))\n",
        "fashion_model.add(LeakyReLU(alpha=0.2))\n",
        "fashion_model.add(MaxPooling2D(pool_size=(2, 2),padding='same'))\n",
        "fashion_model.add(Dropout(0.3))\n",
        "fashion_model.add(Flatten())\n",
        "fashion_model.add(Dense(128, activation='linear'))\n",
        "fashion_model.add(LeakyReLU(alpha=0.2))\n",
        "fashion_model.add(Dropout(0.3))\n",
        "fashion_model.add(Dense(num_classes, activation='softmax'))"
      ]
    },
    {
      "cell_type": "code",
      "execution_count": null,
      "metadata": {
        "id": "PpfWKr7PP2yc",
        "colab": {
          "base_uri": "https://localhost:8080/"
        },
        "outputId": "0e991573-f7e5-428b-aa68-2fe517c529b2"
      },
      "outputs": [
        {
          "output_type": "stream",
          "name": "stdout",
          "text": [
            "Model: \"sequential_4\"\n",
            "_________________________________________________________________\n",
            " Layer (type)                Output Shape              Param #   \n",
            "=================================================================\n",
            " conv2d_12 (Conv2D)          (None, 37, 37, 256)       12544     \n",
            "                                                                 \n",
            " leaky_re_lu_16 (LeakyReLU)  (None, 37, 37, 256)       0         \n",
            "                                                                 \n",
            " max_pooling2d_12 (MaxPooli  (None, 13, 13, 256)       0         \n",
            " ng2D)                                                           \n",
            "                                                                 \n",
            " dropout_16 (Dropout)        (None, 13, 13, 256)       0         \n",
            "                                                                 \n",
            " conv2d_13 (Conv2D)          (None, 13, 13, 128)       295040    \n",
            "                                                                 \n",
            " leaky_re_lu_17 (LeakyReLU)  (None, 13, 13, 128)       0         \n",
            "                                                                 \n",
            " max_pooling2d_13 (MaxPooli  (None, 5, 5, 128)         0         \n",
            " ng2D)                                                           \n",
            "                                                                 \n",
            " dropout_17 (Dropout)        (None, 5, 5, 128)         0         \n",
            "                                                                 \n",
            " conv2d_14 (Conv2D)          (None, 5, 5, 128)         65664     \n",
            "                                                                 \n",
            " leaky_re_lu_18 (LeakyReLU)  (None, 5, 5, 128)         0         \n",
            "                                                                 \n",
            " max_pooling2d_14 (MaxPooli  (None, 3, 3, 128)         0         \n",
            " ng2D)                                                           \n",
            "                                                                 \n",
            " dropout_18 (Dropout)        (None, 3, 3, 128)         0         \n",
            "                                                                 \n",
            " flatten_4 (Flatten)         (None, 1152)              0         \n",
            "                                                                 \n",
            " dense_8 (Dense)             (None, 128)               147584    \n",
            "                                                                 \n",
            " leaky_re_lu_19 (LeakyReLU)  (None, 128)               0         \n",
            "                                                                 \n",
            " dropout_19 (Dropout)        (None, 128)               0         \n",
            "                                                                 \n",
            " dense_9 (Dense)             (None, 3)                 387       \n",
            "                                                                 \n",
            "=================================================================\n",
            "Total params: 521219 (1.99 MB)\n",
            "Trainable params: 521219 (1.99 MB)\n",
            "Non-trainable params: 0 (0.00 Byte)\n",
            "_________________________________________________________________\n"
          ]
        }
      ],
      "source": [
        "fashion_model.summary()"
      ]
    },
    {
      "cell_type": "code",
      "execution_count": null,
      "metadata": {
        "id": "4naKO6sDKKgs"
      },
      "outputs": [],
      "source": [
        "import tensorflow as tf\n",
        "from tensorflow import keras"
      ]
    },
    {
      "cell_type": "code",
      "execution_count": null,
      "metadata": {
        "id": "pBe0_F_jrMHr"
      },
      "outputs": [],
      "source": [
        "fashion_model.compile(loss=keras.losses.categorical_crossentropy, optimizer=keras.optimizers.Adam(),metrics=['accuracy'])"
      ]
    },
    {
      "cell_type": "code",
      "execution_count": null,
      "metadata": {
        "id": "M7kXt0ZshlqI"
      },
      "outputs": [],
      "source": [
        "checkpoint_filepath = '/tmp/checkpoint'\n",
        "model_checkpoint_callback = tf.keras.callbacks.ModelCheckpoint(\n",
        "    filepath=checkpoint_filepath,\n",
        "    save_weights_only=False,\n",
        "    monitor='loss',\n",
        "    mode='min',\n",
        "    save_best_only=True)"
      ]
    },
    {
      "cell_type": "code",
      "execution_count": null,
      "metadata": {
        "id": "lyGEhe7ThmmQ"
      },
      "outputs": [],
      "source": [
        "callbacks = [\n",
        "             EarlyStopping(patience=50),\n",
        "]"
      ]
    },
    {
      "cell_type": "code",
      "execution_count": null,
      "metadata": {
        "id": "fAjJOTtoIvlr",
        "colab": {
          "base_uri": "https://localhost:8080/"
        },
        "outputId": "b885cec1-e1f4-4bb6-ceb7-6b14bbc43590"
      },
      "outputs": [
        {
          "output_type": "stream",
          "name": "stdout",
          "text": [
            "Epoch 1/110\n",
            "13/13 [==============================] - 23s 2s/step - loss: 1.1192 - accuracy: 0.3630 - val_loss: 1.0346 - val_accuracy: 0.3810\n",
            "Epoch 2/110\n",
            "13/13 [==============================] - 21s 2s/step - loss: 0.9586 - accuracy: 0.5144 - val_loss: 0.7070 - val_accuracy: 0.7279\n",
            "Epoch 3/110\n",
            "13/13 [==============================] - 22s 2s/step - loss: 0.5308 - accuracy: 0.7788 - val_loss: 0.2425 - val_accuracy: 0.9728\n",
            "Epoch 4/110\n",
            "13/13 [==============================] - 11s 795ms/step - loss: 0.3436 - accuracy: 0.8522 - val_loss: 0.2305 - val_accuracy: 0.8776\n",
            "Epoch 5/110\n",
            "13/13 [==============================] - 12s 967ms/step - loss: 0.2471 - accuracy: 0.8894 - val_loss: 0.0837 - val_accuracy: 0.9660\n",
            "Epoch 6/110\n",
            "13/13 [==============================] - 13s 974ms/step - loss: 0.2120 - accuracy: 0.9219 - val_loss: 0.0800 - val_accuracy: 0.9728\n",
            "Epoch 7/110\n",
            "13/13 [==============================] - 10s 809ms/step - loss: 0.1339 - accuracy: 0.9495 - val_loss: 0.0508 - val_accuracy: 0.9864\n",
            "Epoch 8/110\n",
            "13/13 [==============================] - 12s 886ms/step - loss: 0.1070 - accuracy: 0.9627 - val_loss: 0.0292 - val_accuracy: 0.9932\n",
            "Epoch 9/110\n",
            "13/13 [==============================] - 12s 966ms/step - loss: 0.1446 - accuracy: 0.9507 - val_loss: 0.0846 - val_accuracy: 0.9728\n",
            "Epoch 10/110\n",
            "13/13 [==============================] - 12s 953ms/step - loss: 0.1589 - accuracy: 0.9315 - val_loss: 0.0709 - val_accuracy: 0.9660\n",
            "Epoch 11/110\n",
            "13/13 [==============================] - 10s 773ms/step - loss: 0.0999 - accuracy: 0.9639 - val_loss: 0.0219 - val_accuracy: 1.0000\n",
            "Epoch 12/110\n",
            "13/13 [==============================] - 13s 1s/step - loss: 0.0879 - accuracy: 0.9712 - val_loss: 0.0256 - val_accuracy: 1.0000\n",
            "Epoch 13/110\n",
            "13/13 [==============================] - 12s 975ms/step - loss: 0.0647 - accuracy: 0.9760 - val_loss: 0.0196 - val_accuracy: 1.0000\n",
            "Epoch 14/110\n",
            "13/13 [==============================] - 12s 962ms/step - loss: 0.0579 - accuracy: 0.9760 - val_loss: 0.0257 - val_accuracy: 0.9864\n",
            "Epoch 15/110\n",
            "13/13 [==============================] - 10s 765ms/step - loss: 0.0614 - accuracy: 0.9724 - val_loss: 0.0241 - val_accuracy: 0.9864\n",
            "Epoch 16/110\n",
            "13/13 [==============================] - 12s 955ms/step - loss: 0.1201 - accuracy: 0.9531 - val_loss: 0.0180 - val_accuracy: 0.9932\n",
            "Epoch 17/110\n",
            "13/13 [==============================] - 12s 976ms/step - loss: 0.0730 - accuracy: 0.9700 - val_loss: 0.0383 - val_accuracy: 0.9932\n",
            "Epoch 18/110\n",
            "13/13 [==============================] - 12s 914ms/step - loss: 0.0409 - accuracy: 0.9832 - val_loss: 0.0290 - val_accuracy: 0.9932\n",
            "Epoch 19/110\n",
            "13/13 [==============================] - 11s 796ms/step - loss: 0.0460 - accuracy: 0.9796 - val_loss: 0.0128 - val_accuracy: 1.0000\n",
            "Epoch 20/110\n",
            "13/13 [==============================] - 12s 970ms/step - loss: 0.0576 - accuracy: 0.9772 - val_loss: 0.0207 - val_accuracy: 0.9932\n",
            "Epoch 21/110\n",
            "13/13 [==============================] - 14s 1s/step - loss: 0.0341 - accuracy: 0.9868 - val_loss: 0.0114 - val_accuracy: 0.9932\n",
            "Epoch 22/110\n",
            "13/13 [==============================] - 12s 910ms/step - loss: 0.0282 - accuracy: 0.9904 - val_loss: 0.0193 - val_accuracy: 0.9932\n",
            "Epoch 23/110\n",
            "13/13 [==============================] - 10s 775ms/step - loss: 0.0447 - accuracy: 0.9880 - val_loss: 0.0341 - val_accuracy: 0.9796\n",
            "Epoch 24/110\n",
            "13/13 [==============================] - 12s 969ms/step - loss: 0.0591 - accuracy: 0.9760 - val_loss: 0.0139 - val_accuracy: 0.9932\n",
            "Epoch 25/110\n",
            "13/13 [==============================] - 12s 975ms/step - loss: 0.0517 - accuracy: 0.9820 - val_loss: 0.0306 - val_accuracy: 0.9932\n",
            "Epoch 26/110\n",
            "13/13 [==============================] - 11s 844ms/step - loss: 0.0528 - accuracy: 0.9808 - val_loss: 0.0176 - val_accuracy: 0.9932\n",
            "Epoch 27/110\n",
            "13/13 [==============================] - 11s 859ms/step - loss: 0.0308 - accuracy: 0.9856 - val_loss: 0.0585 - val_accuracy: 0.9864\n",
            "Epoch 28/110\n",
            "13/13 [==============================] - 12s 977ms/step - loss: 0.0733 - accuracy: 0.9748 - val_loss: 0.0419 - val_accuracy: 0.9932\n",
            "Epoch 29/110\n",
            "13/13 [==============================] - 12s 964ms/step - loss: 0.0330 - accuracy: 0.9892 - val_loss: 0.0089 - val_accuracy: 1.0000\n",
            "Epoch 30/110\n",
            "13/13 [==============================] - 10s 775ms/step - loss: 0.0389 - accuracy: 0.9856 - val_loss: 0.0108 - val_accuracy: 0.9932\n",
            "Epoch 31/110\n",
            "13/13 [==============================] - 12s 912ms/step - loss: 0.0289 - accuracy: 0.9892 - val_loss: 0.0378 - val_accuracy: 0.9932\n",
            "Epoch 32/110\n",
            "13/13 [==============================] - 12s 974ms/step - loss: 0.0264 - accuracy: 0.9892 - val_loss: 0.0091 - val_accuracy: 1.0000\n",
            "Epoch 33/110\n",
            "13/13 [==============================] - 11s 887ms/step - loss: 0.0358 - accuracy: 0.9904 - val_loss: 0.0091 - val_accuracy: 1.0000\n",
            "Epoch 34/110\n",
            "13/13 [==============================] - 11s 802ms/step - loss: 0.0291 - accuracy: 0.9880 - val_loss: 0.0128 - val_accuracy: 0.9932\n",
            "Epoch 35/110\n",
            "13/13 [==============================] - 12s 977ms/step - loss: 0.0234 - accuracy: 0.9916 - val_loss: 0.0302 - val_accuracy: 0.9932\n",
            "Epoch 36/110\n",
            "13/13 [==============================] - 12s 979ms/step - loss: 0.0255 - accuracy: 0.9892 - val_loss: 0.0076 - val_accuracy: 1.0000\n",
            "Epoch 37/110\n",
            "13/13 [==============================] - 11s 851ms/step - loss: 0.0188 - accuracy: 0.9940 - val_loss: 0.0365 - val_accuracy: 0.9864\n",
            "Epoch 38/110\n",
            "13/13 [==============================] - 11s 838ms/step - loss: 0.0294 - accuracy: 0.9880 - val_loss: 0.0139 - val_accuracy: 0.9864\n",
            "Epoch 39/110\n",
            "13/13 [==============================] - 12s 972ms/step - loss: 0.0146 - accuracy: 0.9940 - val_loss: 0.0125 - val_accuracy: 0.9932\n",
            "Epoch 40/110\n",
            "13/13 [==============================] - 13s 1000ms/step - loss: 0.0211 - accuracy: 0.9904 - val_loss: 0.0023 - val_accuracy: 1.0000\n",
            "Epoch 41/110\n",
            "13/13 [==============================] - 11s 832ms/step - loss: 0.0200 - accuracy: 0.9928 - val_loss: 0.0059 - val_accuracy: 1.0000\n",
            "Epoch 42/110\n",
            "13/13 [==============================] - 12s 885ms/step - loss: 0.0223 - accuracy: 0.9904 - val_loss: 0.0024 - val_accuracy: 1.0000\n",
            "Epoch 43/110\n",
            "13/13 [==============================] - 12s 963ms/step - loss: 0.0158 - accuracy: 0.9952 - val_loss: 0.0082 - val_accuracy: 0.9932\n",
            "Epoch 44/110\n",
            "13/13 [==============================] - 13s 1s/step - loss: 0.0169 - accuracy: 0.9928 - val_loss: 0.0180 - val_accuracy: 0.9864\n",
            "Epoch 45/110\n",
            "13/13 [==============================] - 11s 834ms/step - loss: 0.0374 - accuracy: 0.9880 - val_loss: 0.0116 - val_accuracy: 0.9932\n",
            "Epoch 46/110\n",
            "13/13 [==============================] - 12s 866ms/step - loss: 0.0189 - accuracy: 0.9928 - val_loss: 0.0024 - val_accuracy: 1.0000\n",
            "Epoch 47/110\n",
            "13/13 [==============================] - 12s 974ms/step - loss: 0.0186 - accuracy: 0.9904 - val_loss: 0.0026 - val_accuracy: 1.0000\n",
            "Epoch 48/110\n",
            "13/13 [==============================] - 12s 978ms/step - loss: 0.0205 - accuracy: 0.9928 - val_loss: 0.0038 - val_accuracy: 1.0000\n",
            "Epoch 49/110\n",
            "13/13 [==============================] - 10s 765ms/step - loss: 0.0844 - accuracy: 0.9675 - val_loss: 0.0028 - val_accuracy: 1.0000\n",
            "Epoch 50/110\n",
            "13/13 [==============================] - 12s 926ms/step - loss: 0.0329 - accuracy: 0.9892 - val_loss: 0.0481 - val_accuracy: 0.9864\n",
            "Epoch 51/110\n",
            "13/13 [==============================] - 12s 978ms/step - loss: 0.0345 - accuracy: 0.9892 - val_loss: 0.0107 - val_accuracy: 0.9932\n",
            "Epoch 52/110\n",
            "13/13 [==============================] - 12s 934ms/step - loss: 0.0303 - accuracy: 0.9868 - val_loss: 0.0409 - val_accuracy: 0.9864\n",
            "Epoch 53/110\n",
            "13/13 [==============================] - 11s 780ms/step - loss: 0.0537 - accuracy: 0.9772 - val_loss: 0.0080 - val_accuracy: 0.9932\n",
            "Epoch 54/110\n",
            "13/13 [==============================] - 12s 958ms/step - loss: 0.0289 - accuracy: 0.9880 - val_loss: 0.0040 - val_accuracy: 1.0000\n",
            "Epoch 55/110\n",
            "13/13 [==============================] - 12s 969ms/step - loss: 0.0276 - accuracy: 0.9880 - val_loss: 0.0027 - val_accuracy: 1.0000\n",
            "Epoch 56/110\n",
            "13/13 [==============================] - 11s 889ms/step - loss: 0.0114 - accuracy: 0.9952 - val_loss: 0.0030 - val_accuracy: 1.0000\n",
            "Epoch 57/110\n",
            "13/13 [==============================] - 11s 815ms/step - loss: 0.0188 - accuracy: 0.9940 - val_loss: 0.0104 - val_accuracy: 0.9932\n",
            "Epoch 58/110\n",
            "13/13 [==============================] - 12s 975ms/step - loss: 0.0234 - accuracy: 0.9916 - val_loss: 0.0095 - val_accuracy: 0.9932\n",
            "Epoch 59/110\n",
            "13/13 [==============================] - 12s 971ms/step - loss: 0.0252 - accuracy: 0.9940 - val_loss: 0.0107 - val_accuracy: 0.9932\n",
            "Epoch 60/110\n",
            "13/13 [==============================] - 11s 841ms/step - loss: 0.0175 - accuracy: 0.9952 - val_loss: 0.0139 - val_accuracy: 0.9864\n",
            "Epoch 61/110\n",
            "13/13 [==============================] - 12s 863ms/step - loss: 0.0235 - accuracy: 0.9892 - val_loss: 0.0251 - val_accuracy: 0.9932\n",
            "Epoch 62/110\n",
            "13/13 [==============================] - 12s 971ms/step - loss: 0.0086 - accuracy: 0.9964 - val_loss: 0.0030 - val_accuracy: 1.0000\n",
            "Epoch 63/110\n",
            "13/13 [==============================] - 12s 954ms/step - loss: 0.0067 - accuracy: 0.9976 - val_loss: 0.0133 - val_accuracy: 0.9932\n",
            "Epoch 64/110\n",
            "13/13 [==============================] - 10s 779ms/step - loss: 0.0175 - accuracy: 0.9952 - val_loss: 0.0107 - val_accuracy: 0.9932\n",
            "Epoch 65/110\n",
            "13/13 [==============================] - 12s 935ms/step - loss: 0.0097 - accuracy: 0.9952 - val_loss: 0.0041 - val_accuracy: 1.0000\n",
            "Epoch 66/110\n",
            "13/13 [==============================] - 12s 971ms/step - loss: 0.0188 - accuracy: 0.9916 - val_loss: 0.0068 - val_accuracy: 1.0000\n",
            "Epoch 67/110\n",
            "13/13 [==============================] - 12s 926ms/step - loss: 0.0185 - accuracy: 0.9916 - val_loss: 0.0012 - val_accuracy: 1.0000\n",
            "Epoch 68/110\n",
            "13/13 [==============================] - 11s 801ms/step - loss: 0.0112 - accuracy: 0.9964 - val_loss: 0.0064 - val_accuracy: 0.9932\n",
            "Epoch 69/110\n",
            "13/13 [==============================] - 12s 974ms/step - loss: 0.0188 - accuracy: 0.9940 - val_loss: 0.0024 - val_accuracy: 1.0000\n",
            "Epoch 70/110\n",
            "13/13 [==============================] - 12s 959ms/step - loss: 0.0184 - accuracy: 0.9952 - val_loss: 0.0037 - val_accuracy: 1.0000\n",
            "Epoch 71/110\n",
            "13/13 [==============================] - 11s 883ms/step - loss: 0.0258 - accuracy: 0.9928 - val_loss: 0.0337 - val_accuracy: 0.9864\n",
            "Epoch 72/110\n",
            "13/13 [==============================] - 11s 824ms/step - loss: 0.0098 - accuracy: 0.9952 - val_loss: 0.0090 - val_accuracy: 0.9932\n",
            "Epoch 73/110\n",
            "13/13 [==============================] - 12s 972ms/step - loss: 0.0082 - accuracy: 0.9976 - val_loss: 0.0084 - val_accuracy: 0.9932\n",
            "Epoch 74/110\n",
            "13/13 [==============================] - 12s 970ms/step - loss: 0.0138 - accuracy: 0.9940 - val_loss: 0.0369 - val_accuracy: 0.9796\n",
            "Epoch 75/110\n",
            "13/13 [==============================] - 10s 803ms/step - loss: 0.0156 - accuracy: 0.9928 - val_loss: 0.0036 - val_accuracy: 1.0000\n",
            "Epoch 76/110\n",
            "13/13 [==============================] - 12s 890ms/step - loss: 0.0284 - accuracy: 0.9916 - val_loss: 0.0094 - val_accuracy: 0.9932\n",
            "Epoch 77/110\n",
            "13/13 [==============================] - 12s 957ms/step - loss: 0.0221 - accuracy: 0.9904 - val_loss: 0.0098 - val_accuracy: 1.0000\n",
            "Epoch 78/110\n",
            "13/13 [==============================] - 12s 957ms/step - loss: 0.0131 - accuracy: 0.9952 - val_loss: 0.0088 - val_accuracy: 1.0000\n",
            "Epoch 79/110\n",
            "13/13 [==============================] - 10s 760ms/step - loss: 0.0065 - accuracy: 0.9988 - val_loss: 0.0013 - val_accuracy: 1.0000\n",
            "Epoch 80/110\n",
            "13/13 [==============================] - 12s 955ms/step - loss: 0.0057 - accuracy: 0.9988 - val_loss: 0.0012 - val_accuracy: 1.0000\n",
            "Epoch 81/110\n",
            "13/13 [==============================] - 12s 975ms/step - loss: 0.0103 - accuracy: 0.9952 - val_loss: 0.0207 - val_accuracy: 0.9932\n",
            "Epoch 82/110\n",
            "13/13 [==============================] - 12s 907ms/step - loss: 0.0089 - accuracy: 0.9976 - val_loss: 0.0013 - val_accuracy: 1.0000\n",
            "Epoch 83/110\n",
            "13/13 [==============================] - 11s 795ms/step - loss: 0.0173 - accuracy: 0.9952 - val_loss: 0.0017 - val_accuracy: 1.0000\n",
            "Epoch 84/110\n",
            "13/13 [==============================] - 12s 971ms/step - loss: 0.0252 - accuracy: 0.9904 - val_loss: 0.0035 - val_accuracy: 1.0000\n",
            "Epoch 85/110\n",
            "13/13 [==============================] - 12s 972ms/step - loss: 0.0113 - accuracy: 0.9940 - val_loss: 0.0035 - val_accuracy: 1.0000\n",
            "Epoch 86/110\n",
            "13/13 [==============================] - 11s 885ms/step - loss: 0.0165 - accuracy: 0.9952 - val_loss: 6.5477e-04 - val_accuracy: 1.0000\n",
            "Epoch 87/110\n",
            "13/13 [==============================] - 11s 827ms/step - loss: 0.0370 - accuracy: 0.9916 - val_loss: 0.0217 - val_accuracy: 0.9864\n",
            "Epoch 88/110\n",
            "13/13 [==============================] - 12s 970ms/step - loss: 0.0413 - accuracy: 0.9832 - val_loss: 0.0224 - val_accuracy: 0.9932\n",
            "Epoch 89/110\n",
            "13/13 [==============================] - 12s 968ms/step - loss: 0.0312 - accuracy: 0.9868 - val_loss: 0.0058 - val_accuracy: 1.0000\n",
            "Epoch 90/110\n",
            "13/13 [==============================] - 11s 834ms/step - loss: 0.0570 - accuracy: 0.9772 - val_loss: 0.0514 - val_accuracy: 0.9932\n",
            "Epoch 91/110\n",
            "13/13 [==============================] - 12s 866ms/step - loss: 0.0305 - accuracy: 0.9928 - val_loss: 0.0042 - val_accuracy: 1.0000\n",
            "Epoch 92/110\n",
            "13/13 [==============================] - 12s 974ms/step - loss: 0.0304 - accuracy: 0.9916 - val_loss: 0.0083 - val_accuracy: 1.0000\n",
            "Epoch 93/110\n",
            "13/13 [==============================] - 13s 1s/step - loss: 0.0218 - accuracy: 0.9916 - val_loss: 0.0119 - val_accuracy: 0.9932\n",
            "Epoch 94/110\n",
            "13/13 [==============================] - 11s 833ms/step - loss: 0.0352 - accuracy: 0.9892 - val_loss: 0.0647 - val_accuracy: 0.9932\n",
            "Epoch 95/110\n",
            "13/13 [==============================] - 12s 888ms/step - loss: 0.0265 - accuracy: 0.9928 - val_loss: 0.0015 - val_accuracy: 1.0000\n",
            "Epoch 96/110\n",
            "13/13 [==============================] - 12s 973ms/step - loss: 0.0192 - accuracy: 0.9916 - val_loss: 0.0180 - val_accuracy: 0.9932\n",
            "Epoch 97/110\n",
            "13/13 [==============================] - 12s 951ms/step - loss: 0.0148 - accuracy: 0.9940 - val_loss: 0.0351 - val_accuracy: 0.9864\n",
            "Epoch 98/110\n",
            "13/13 [==============================] - 10s 772ms/step - loss: 0.0044 - accuracy: 1.0000 - val_loss: 8.3140e-04 - val_accuracy: 1.0000\n",
            "Epoch 99/110\n",
            "13/13 [==============================] - 12s 942ms/step - loss: 0.0029 - accuracy: 0.9988 - val_loss: 0.0016 - val_accuracy: 1.0000\n",
            "Epoch 100/110\n",
            "13/13 [==============================] - 12s 978ms/step - loss: 0.0047 - accuracy: 0.9988 - val_loss: 0.0021 - val_accuracy: 1.0000\n",
            "Epoch 101/110\n",
            "13/13 [==============================] - 12s 936ms/step - loss: 0.0183 - accuracy: 0.9952 - val_loss: 7.8113e-04 - val_accuracy: 1.0000\n",
            "Epoch 102/110\n",
            "13/13 [==============================] - 11s 797ms/step - loss: 0.0551 - accuracy: 0.9820 - val_loss: 0.0947 - val_accuracy: 0.9660\n",
            "Epoch 103/110\n",
            "13/13 [==============================] - 12s 954ms/step - loss: 0.1074 - accuracy: 0.9736 - val_loss: 0.0122 - val_accuracy: 0.9932\n",
            "Epoch 104/110\n",
            "13/13 [==============================] - 12s 969ms/step - loss: 0.0206 - accuracy: 0.9904 - val_loss: 0.0051 - val_accuracy: 1.0000\n",
            "Epoch 105/110\n",
            "13/13 [==============================] - 11s 866ms/step - loss: 0.0136 - accuracy: 0.9952 - val_loss: 0.0044 - val_accuracy: 1.0000\n",
            "Epoch 106/110\n",
            "13/13 [==============================] - 11s 838ms/step - loss: 0.0070 - accuracy: 0.9976 - val_loss: 0.0020 - val_accuracy: 1.0000\n",
            "Epoch 107/110\n",
            "13/13 [==============================] - 12s 972ms/step - loss: 0.0156 - accuracy: 0.9940 - val_loss: 0.0584 - val_accuracy: 0.9864\n",
            "Epoch 108/110\n",
            "13/13 [==============================] - 12s 974ms/step - loss: 0.0141 - accuracy: 0.9940 - val_loss: 0.0048 - val_accuracy: 1.0000\n",
            "Epoch 109/110\n",
            "13/13 [==============================] - 11s 860ms/step - loss: 0.0065 - accuracy: 0.9976 - val_loss: 0.0618 - val_accuracy: 0.9932\n",
            "Epoch 110/110\n",
            "13/13 [==============================] - 12s 865ms/step - loss: 0.0090 - accuracy: 0.9964 - val_loss: 0.0103 - val_accuracy: 0.9932\n"
          ]
        }
      ],
      "source": [
        "fashion_train = fashion_model.fit(train_X, train_label,callbacks=callbacks, batch_size=batch_size, epochs=epochs,verbose=1, validation_data=(valid_X,valid_label))"
      ]
    },
    {
      "cell_type": "code",
      "execution_count": null,
      "metadata": {
        "id": "zE5PMeutIzJA",
        "colab": {
          "base_uri": "https://localhost:8080/"
        },
        "outputId": "28011d70-b750-4be1-d647-bf0b60077e1a"
      },
      "outputs": [
        {
          "output_type": "stream",
          "name": "stdout",
          "text": [
            "8/8 [==============================] - 1s 96ms/step - loss: 0.0529 - accuracy: 0.9878\n"
          ]
        }
      ],
      "source": [
        "test_eval = fashion_model.evaluate(test_X, test_Y_one_hot, verbose=1)"
      ]
    },
    {
      "cell_type": "code",
      "execution_count": null,
      "metadata": {
        "id": "o31dST3-IzNc",
        "colab": {
          "base_uri": "https://localhost:8080/"
        },
        "outputId": "3682fcba-2f95-45ad-f760-273fcd5e82fd"
      },
      "outputs": [
        {
          "output_type": "stream",
          "name": "stdout",
          "text": [
            "Test loss: 0.052920419722795486\n",
            "Test accuracy: 0.9877551198005676\n"
          ]
        }
      ],
      "source": [
        "print('Test loss:', test_eval[0])\n",
        "print('Test accuracy:', test_eval[1])"
      ]
    },
    {
      "cell_type": "code",
      "execution_count": null,
      "metadata": {
        "id": "vEtGJ3cDdJQ4",
        "colab": {
          "base_uri": "https://localhost:8080/",
          "height": 911
        },
        "outputId": "96ef5659-30b9-4766-bce7-da9e534f0254"
      },
      "outputs": [
        {
          "output_type": "display_data",
          "data": {
            "text/plain": [
              "<Figure size 640x480 with 1 Axes>"
            ],
            "image/png": "[encoded data removed]"
          },
          "metadata": {}
        },
        {
          "output_type": "display_data",
          "data": {
            "text/plain": [
              "<Figure size 640x480 with 1 Axes>"
            ],
            "image/png": "[encoded data removed]"
          },
          "metadata": {}
        }
      ],
      "source": [
        "accuracy = fashion_train.history['accuracy']\n",
        "val_accuracy = fashion_train.history['val_accuracy']\n",
        "loss = fashion_train.history['loss']\n",
        "val_loss = fashion_train.history['val_loss']\n",
        "epochs = range(len(accuracy))\n",
        "plt.plot(epochs, accuracy, 'bo', label='Training accuracy')\n",
        "plt.plot(epochs, val_accuracy, 'b', label='Validation accuracy')\n",
        "plt.title('Training and validation accuracy')\n",
        "plt.legend()\n",
        "plt.figure()\n",
        "plt.plot(epochs, loss, 'bo', label='Training loss')\n",
        "plt.plot(epochs, val_loss, 'b', label='Validation loss')\n",
        "plt.title('Training and validation loss')\n",
        "plt.legend()\n",
        "plt.show()"
      ]
    },
    {
      "cell_type": "code",
      "execution_count": null,
      "metadata": {
        "id": "tagynGN1z3ro"
      },
      "outputs": [],
      "source": [
        "import math\n",
        "from sklearn.metrics import confusion_matrix, classification_report\n",
        "from sklearn.metrics import confusion_matrix\n",
        "from sklearn import svm"
      ]
    },
    {
      "cell_type": "code",
      "execution_count": null,
      "metadata": {
        "id": "jaIp4GGABReJ",
        "colab": {
          "base_uri": "https://localhost:8080/"
        },
        "outputId": "75cecc58-abc5-47af-8258-9ed7f9c08e87"
      },
      "outputs": [
        {
          "output_type": "stream",
          "name": "stdout",
          "text": [
            "8/8 [==============================] - 1s 93ms/step\n"
          ]
        }
      ],
      "source": [
        "import sklearn.metrics as metrics\n",
        "\n",
        "y_pred_ohe = fashion_model.predict(test_X)  # shape=(n_samples, 12)\n",
        "y_pred_labels = np.argmax(y_pred_ohe, axis=1)  # only necessary if output has one-hot-encoding, shape=(n_samples)\n",
        "\n",
        "font = {'weight' : 'bold',\n",
        "    'size'   : 16}\n",
        "plt.rc('font', **font)\n",
        "\n",
        "confusion_matrix = metrics.confusion_matrix(y_true=y_test, y_pred=y_pred_labels, normalize='true')  # shape=(12, 12)"
      ]
    },
    {
      "cell_type": "code",
      "execution_count": null,
      "metadata": {
        "id": "6rraU12NBWe8",
        "colab": {
          "base_uri": "https://localhost:8080/"
        },
        "outputId": "644e3cac-7229-431b-83bb-e12424588332"
      },
      "outputs": [
        {
          "output_type": "stream",
          "name": "stdout",
          "text": [
            "[[100.           0.           0.        ]\n",
            " [  1.25        97.5          1.25      ]\n",
            " [  0.           1.20481928  98.79518072]]\n"
          ]
        }
      ],
      "source": [
        "print(confusion_matrix*100)"
      ]
    },
    {
      "cell_type": "code",
      "execution_count": null,
      "metadata": {
        "id": "1_8Aj3gldbCE",
        "colab": {
          "base_uri": "https://localhost:8080/",
          "height": 461
        },
        "outputId": "95ff7f80-e449-4229-f698-c386d22154c4"
      },
      "outputs": [
        {
          "output_type": "execute_result",
          "data": {
            "text/plain": [
              "<Axes: >"
            ]
          },
          "metadata": {},
          "execution_count": 408
        },
        {
          "output_type": "display_data",
          "data": {
            "text/plain": [
              "<Figure size 640x480 with 2 Axes>"
            ],
            "image/png": "[encoded data removed]"
          },
          "metadata": {}
        }
      ],
      "source": [
        "sns.heatmap(confusion_matrix*100, annot=True, cmap='Blues')"
      ]
    },
    {
      "cell_type": "code",
      "execution_count": null,
      "metadata": {
        "id": "tcNaseF73len"
      },
      "outputs": [],
      "source": [
        "oxi = np.concatenate((xSMOTEearly, finalpsd), axis=1)"
      ]
    },
    {
      "cell_type": "code",
      "execution_count": null,
      "metadata": {
        "id": "I0l1X7mzIae6"
      },
      "outputs": [],
      "source": [
        "X_train, X_test, y_train, y_test = train_test_split(oxi, y, test_size=0.2, random_state=6)"
      ]
    },
    {
      "cell_type": "code",
      "execution_count": null,
      "metadata": {
        "id": "j9BjHjO9iX3Y",
        "colab": {
          "base_uri": "https://localhost:8080/"
        },
        "outputId": "44dac80a-772e-4661-ce1b-b107a66b43ca"
      },
      "outputs": [
        {
          "output_type": "stream",
          "name": "stdout",
          "text": [
            "Name: Nearest Neighbors Score: 0.9673469387755103\n",
            "Name: Linear SVM Score: 0.9877551020408163\n",
            "Name: RBF SVM Score: 0.9877551020408163\n",
            "Name: Decision Tree Score: 0.9755102040816327\n",
            "Name: Random Forest Score: 0.9061224489795918\n",
            "Name: Neural Net Score: 0.9918367346938776\n",
            "Name: AdaBoost Score: 0.963265306122449\n",
            "Name: Naive Bayes Score: 0.9918367346938776\n",
            "Name: QDA Score: 0.9959183673469387\n",
            "0.9673469387755103\n",
            "0.9877551020408163\n",
            "0.9877551020408163\n",
            "0.9755102040816327\n",
            "0.9061224489795918\n"
          ]
        },
        {
          "output_type": "stream",
          "name": "stderr",
          "text": [
            "/usr/local/lib/python3.10/dist-packages/sklearn/discriminant_analysis.py:926: UserWarning: Variables are collinear\n",
            "  warnings.warn(\"Variables are collinear\")\n"
          ]
        },
        {
          "output_type": "stream",
          "name": "stdout",
          "text": [
            "0.9918367346938776\n",
            "0.963265306122449\n",
            "0.9918367346938776\n",
            "0.9959183673469387\n"
          ]
        },
        {
          "output_type": "stream",
          "name": "stderr",
          "text": [
            "/usr/local/lib/python3.10/dist-packages/sklearn/discriminant_analysis.py:926: UserWarning: Variables are collinear\n",
            "  warnings.warn(\"Variables are collinear\")\n"
          ]
        }
      ],
      "source": [
        "names = [\"Nearest Neighbors\", \"Linear SVM\", \"RBF SVM\",\n",
        "         \"Decision Tree\", \"Random Forest\", \"Neural Net\", \"AdaBoost\",\n",
        "         \"Naive Bayes\", \"QDA\"]\n",
        "\n",
        "classifiers = [\n",
        "    KNeighborsClassifier(),\n",
        "    SVC(kernel=\"linear\",random_state=1),\n",
        "    SVC(gamma=0.005,random_state=1),\n",
        "    #GaussianProcessClassifier(1.0 * RBF(1.0)),\n",
        "    DecisionTreeClassifier(max_depth=5, random_state=1),\n",
        "    RandomForestClassifier(max_depth=5, n_estimators=10, max_features=1, random_state=1),\n",
        "    MLPClassifier(alpha=1, max_iter=1000, random_state=1),\n",
        "    AdaBoostClassifier(random_state=1),\n",
        "    GaussianNB(),\n",
        "    QuadraticDiscriminantAnalysis()]\n",
        "\n",
        "# iterate over classifiers\n",
        "for name, clf in zip(names, classifiers):\n",
        "    clf.fit(X_train, y_train)\n",
        "    score = clf.score(X_test, y_test)\n",
        "    print(\"Name: \"+name+\" Score: \"+str(score))\n",
        "\n",
        "\n",
        "for name, clf in zip(names, classifiers):\n",
        "    clf.fit(X_train, y_train)\n",
        "    score = clf.score(X_test, y_test)\n",
        "    print(str(score))"
      ]
    },
    {
      "cell_type": "code",
      "execution_count": null,
      "metadata": {
        "id": "o6FaRFY4w_CJ",
        "colab": {
          "base_uri": "https://localhost:8080/"
        },
        "outputId": "8555a647-a792-4c6f-8382-6505b6afe586"
      },
      "outputs": [
        {
          "output_type": "stream",
          "name": "stdout",
          "text": [
            "Name: Nearest Neighbors Score: 0.9755102040816327\n",
            "Name: Linear SVM Score: 0.9877551020408163\n",
            "Name: RBF SVM Score: 0.5346938775510204\n",
            "Name: Gaussian Process Score: 0.9795918367346939\n",
            "Name: Decision Tree Score: 0.9061224489795918\n",
            "Name: Random Forest Score: 0.9959183673469387\n",
            "Name: Neural Net Score: 0.963265306122449\n",
            "Name: AdaBoost Score: 0.9918367346938776\n",
            "Name: Naive Bayes Score: 0.9959183673469387\n"
          ]
        },
        {
          "output_type": "stream",
          "name": "stderr",
          "text": [
            "/usr/local/lib/python3.10/dist-packages/sklearn/discriminant_analysis.py:926: UserWarning: Variables are collinear\n",
            "  warnings.warn(\"Variables are collinear\")\n"
          ]
        }
      ],
      "source": [
        "import numpy as np\n",
        "import matplotlib.pyplot as plt\n",
        "from matplotlib.colors import ListedColormap\n",
        "from sklearn.model_selection import train_test_split\n",
        "from sklearn.preprocessing import StandardScaler\n",
        "from sklearn.datasets import make_moons, make_circles, make_classification\n",
        "from sklearn.neural_network import MLPClassifier\n",
        "from sklearn.neighbors import KNeighborsClassifier\n",
        "from sklearn.svm import SVC\n",
        "from sklearn.gaussian_process import GaussianProcessClassifier\n",
        "from sklearn.gaussian_process.kernels import RBF\n",
        "from sklearn.tree import DecisionTreeClassifier\n",
        "from sklearn.ensemble import RandomForestClassifier, AdaBoostClassifier\n",
        "from sklearn.naive_bayes import GaussianNB\n",
        "from sklearn.discriminant_analysis import QuadraticDiscriminantAnalysis\n",
        "\n",
        "h = .02  # step size in the mesh\n",
        "\n",
        "names = [\"Nearest Neighbors\", \"Linear SVM\", \"RBF SVM\", \"Gaussian Process\",\n",
        "         \"Decision Tree\", \"Random Forest\", \"Neural Net\", \"AdaBoost\",\n",
        "         \"Naive Bayes\", \"QDA\"]\n",
        "\n",
        "classifiers = [\n",
        "    KNeighborsClassifier(3),\n",
        "    SVC(kernel=\"linear\", C=0.025),\n",
        "    SVC(gamma=2, C=1),\n",
        "    #GaussianProcessClassifier(1.0 * RBF(1.0)),\n",
        "    DecisionTreeClassifier(max_depth=5),\n",
        "    RandomForestClassifier(max_depth=5, n_estimators=10, max_features=1),\n",
        "    MLPClassifier(alpha=1, max_iter=1000),\n",
        "    AdaBoostClassifier(),\n",
        "    GaussianNB(),\n",
        "    QuadraticDiscriminantAnalysis()]\n",
        "\n",
        "# iterate over classifiers\n",
        "for name, clf in zip(names, classifiers):\n",
        "    clf.fit(X_train, y_train)\n",
        "    score = clf.score(X_test, y_test)\n",
        "    print(\"Name: \"+name+\" Score: \"+str(score))\n"
      ]
    }
  ],
  "metadata": {
    "colab": {
      "provenance": [],
      "include_colab_link": true
    },
    "kernelspec": {
      "display_name": "Python 3",
      "name": "python3"
    },
    "language_info": {
      "name": "python"
    }
  },
  "nbformat": 4,
  "nbformat_minor": 0
}